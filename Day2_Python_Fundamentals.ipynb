{
 "cells": [
  {
   "cell_type": "code",
   "execution_count": 1,
   "id": "8a96f799-11a6-4c84-ba38-8cd23155d5cc",
   "metadata": {
    "scrolled": true
   },
   "outputs": [
    {
     "ename": "SyntaxError",
     "evalue": "invalid syntax (371653707.py, line 3)",
     "output_type": "error",
     "traceback": [
      "\u001b[1;36m  Cell \u001b[1;32mIn[1], line 3\u001b[1;36m\u001b[0m\n\u001b[1;33m    first name='Pradip'\u001b[0m\n\u001b[1;37m          ^\u001b[0m\n\u001b[1;31mSyntaxError\u001b[0m\u001b[1;31m:\u001b[0m invalid syntax\n"
     ]
    }
   ],
   "source": [
    "#Variables in python\n",
    "#RuleNo.1-No namespaces while declaring the variable names in python.\n",
    "first name='Pradip'\n",
    "print(first name)"
   ]
  },
  {
   "cell_type": "code",
   "execution_count": 2,
   "id": "d3c478a4-2f2b-4b6f-b368-30e1362db9b2",
   "metadata": {},
   "outputs": [
    {
     "ename": "SyntaxError",
     "evalue": "invalid decimal literal (815018172.py, line 2)",
     "output_type": "error",
     "traceback": [
      "\u001b[1;36m  Cell \u001b[1;32mIn[2], line 2\u001b[1;36m\u001b[0m\n\u001b[1;33m    1name='Pradip'\u001b[0m\n\u001b[1;37m    ^\u001b[0m\n\u001b[1;31mSyntaxError\u001b[0m\u001b[1;31m:\u001b[0m invalid decimal literal\n"
     ]
    }
   ],
   "source": [
    "#RuleNo.2-A variable name should not start with number\n",
    "1name='Pradip'\n",
    "print(1name)"
   ]
  },
  {
   "cell_type": "code",
   "execution_count": 3,
   "id": "cc3103ff-66fe-4a0d-90ab-acc26d1377f2",
   "metadata": {},
   "outputs": [
    {
     "ename": "SyntaxError",
     "evalue": "invalid syntax (3747243803.py, line 3)",
     "output_type": "error",
     "traceback": [
      "\u001b[1;36m  Cell \u001b[1;32mIn[3], line 3\u001b[1;36m\u001b[0m\n\u001b[1;33m    print(name@)\u001b[0m\n\u001b[1;37m               ^\u001b[0m\n\u001b[1;31mSyntaxError\u001b[0m\u001b[1;31m:\u001b[0m invalid syntax\n"
     ]
    }
   ],
   "source": [
    "#RuleNo.3-A variable name should not contain any special characters\n",
    "name@='Pradip'\n",
    "print(name@)"
   ]
  },
  {
   "cell_type": "code",
   "execution_count": null,
   "id": "80d56c08-f424-4de1-9b43-4fa573bbcbca",
   "metadata": {},
   "outputs": [],
   "source": [
    "#Intyroduction to datatypes in python\n",
    "1.Strings--str\n",
    "2.Numbers--Integers--int and floats--float(decimal)\n",
    "3.lists--list\n",
    "4.tuples--tuple\n",
    "5.Dictionaries--dict\n",
    "\n",
    "#Classification of datatypes\n",
    "1.Mutable datatypes--Editable\n",
    "2.Imutable datatypes--Non editable\n",
    "\n",
    "#Intr.to string datatype:\n",
    "--String is Imutable datatype\n",
    "--It can be defined in sinle or double qoutes"
   ]
  },
  {
   "cell_type": "code",
   "execution_count": 6,
   "id": "8254b2ca-ef14-4518-8cf0-ae5d23cda395",
   "metadata": {},
   "outputs": [
    {
     "name": "stdout",
     "output_type": "stream",
     "text": [
      "pradip bhise\n",
      "Pradip Bhise\n"
     ]
    }
   ],
   "source": [
    "#String methods\n",
    "#1.First character of word in caps\n",
    "fullname='pradip bhise'\n",
    "print(fullname)\n",
    "print(fullname.title())\n"
   ]
  },
  {
   "cell_type": "code",
   "execution_count": 7,
   "id": "28e510b0-db46-45fc-9183-7bdf2659b0c8",
   "metadata": {},
   "outputs": [
    {
     "name": "stdout",
     "output_type": "stream",
     "text": [
      "PRADIP BHISE\n"
     ]
    }
   ],
   "source": [
    "#2.Entire name in caps\n",
    "print(fullname.upper())"
   ]
  },
  {
   "cell_type": "code",
   "execution_count": 8,
   "id": "866d68f2-525c-4156-902e-83d810110bff",
   "metadata": {},
   "outputs": [
    {
     "name": "stdout",
     "output_type": "stream",
     "text": [
      "pradip bhise\n"
     ]
    }
   ],
   "source": [
    "#3.Entire name in smallcase\n",
    "print(fullname.lower())"
   ]
  },
  {
   "cell_type": "code",
   "execution_count": null,
   "id": "19c21dc2-5be4-42d6-aa9f-97e5e9ba02d3",
   "metadata": {},
   "outputs": [],
   "source": []
  }
 ],
 "metadata": {
  "kernelspec": {
   "display_name": "Python [conda env:base] *",
   "language": "python",
   "name": "conda-base-py"
  },
  "language_info": {
   "codemirror_mode": {
    "name": "ipython",
    "version": 3
   },
   "file_extension": ".py",
   "mimetype": "text/x-python",
   "name": "python",
   "nbconvert_exporter": "python",
   "pygments_lexer": "ipython3",
   "version": "3.13.5"
  }
 },
 "nbformat": 4,
 "nbformat_minor": 5
}
